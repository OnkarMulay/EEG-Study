{
  "nbformat": 4,
  "nbformat_minor": 0,
  "metadata": {
    "colab": {
      "name": "EEG epilepsy.ipynb",
      "provenance": [],
      "collapsed_sections": [],
      "toc_visible": true
    },
    "kernelspec": {
      "name": "python3",
      "display_name": "Python 3"
    }
  },
  "cells": [
    {
      "cell_type": "code",
      "metadata": {
        "id": "ZgH0OK0of1mh"
      },
      "source": [
        "import pandas as pd\n",
        "import numpy as np\n",
        "from matplotlib import pyplot as plt\n",
        "from sklearn.preprocessing import Normalizer"
      ],
      "execution_count": 1,
      "outputs": []
    },
    {
      "cell_type": "code",
      "metadata": {
        "colab": {
          "base_uri": "https://localhost:8080/"
        },
        "id": "sE6FsTtthYQt",
        "outputId": "e347f14d-a610-4a69-97d3-2b8086e0f6da"
      },
      "source": [
        "d=pd.read_csv('data.csv')\n",
        "print(d.shape)"
      ],
      "execution_count": 2,
      "outputs": [
        {
          "output_type": "stream",
          "text": [
            "(11500, 180)\n"
          ],
          "name": "stdout"
        }
      ]
    },
    {
      "cell_type": "code",
      "metadata": {
        "colab": {
          "base_uri": "https://localhost:8080/",
          "height": 411
        },
        "id": "am2JVkSEpIWX",
        "outputId": "dcb53082-b88e-40b1-c4d7-03730c8edad4"
      },
      "source": [
        "d.head(10)"
      ],
      "execution_count": 3,
      "outputs": [
        {
          "output_type": "execute_result",
          "data": {
            "text/html": [
              "<div>\n",
              "<style scoped>\n",
              "    .dataframe tbody tr th:only-of-type {\n",
              "        vertical-align: middle;\n",
              "    }\n",
              "\n",
              "    .dataframe tbody tr th {\n",
              "        vertical-align: top;\n",
              "    }\n",
              "\n",
              "    .dataframe thead th {\n",
              "        text-align: right;\n",
              "    }\n",
              "</style>\n",
              "<table border=\"1\" class=\"dataframe\">\n",
              "  <thead>\n",
              "    <tr style=\"text-align: right;\">\n",
              "      <th></th>\n",
              "      <th>Unnamed: 0</th>\n",
              "      <th>X1</th>\n",
              "      <th>X2</th>\n",
              "      <th>X3</th>\n",
              "      <th>X4</th>\n",
              "      <th>X5</th>\n",
              "      <th>X6</th>\n",
              "      <th>X7</th>\n",
              "      <th>X8</th>\n",
              "      <th>X9</th>\n",
              "      <th>X10</th>\n",
              "      <th>X11</th>\n",
              "      <th>X12</th>\n",
              "      <th>X13</th>\n",
              "      <th>X14</th>\n",
              "      <th>X15</th>\n",
              "      <th>X16</th>\n",
              "      <th>X17</th>\n",
              "      <th>X18</th>\n",
              "      <th>X19</th>\n",
              "      <th>X20</th>\n",
              "      <th>X21</th>\n",
              "      <th>X22</th>\n",
              "      <th>X23</th>\n",
              "      <th>X24</th>\n",
              "      <th>X25</th>\n",
              "      <th>X26</th>\n",
              "      <th>X27</th>\n",
              "      <th>X28</th>\n",
              "      <th>X29</th>\n",
              "      <th>X30</th>\n",
              "      <th>X31</th>\n",
              "      <th>X32</th>\n",
              "      <th>X33</th>\n",
              "      <th>X34</th>\n",
              "      <th>X35</th>\n",
              "      <th>X36</th>\n",
              "      <th>X37</th>\n",
              "      <th>X38</th>\n",
              "      <th>X39</th>\n",
              "      <th>...</th>\n",
              "      <th>X140</th>\n",
              "      <th>X141</th>\n",
              "      <th>X142</th>\n",
              "      <th>X143</th>\n",
              "      <th>X144</th>\n",
              "      <th>X145</th>\n",
              "      <th>X146</th>\n",
              "      <th>X147</th>\n",
              "      <th>X148</th>\n",
              "      <th>X149</th>\n",
              "      <th>X150</th>\n",
              "      <th>X151</th>\n",
              "      <th>X152</th>\n",
              "      <th>X153</th>\n",
              "      <th>X154</th>\n",
              "      <th>X155</th>\n",
              "      <th>X156</th>\n",
              "      <th>X157</th>\n",
              "      <th>X158</th>\n",
              "      <th>X159</th>\n",
              "      <th>X160</th>\n",
              "      <th>X161</th>\n",
              "      <th>X162</th>\n",
              "      <th>X163</th>\n",
              "      <th>X164</th>\n",
              "      <th>X165</th>\n",
              "      <th>X166</th>\n",
              "      <th>X167</th>\n",
              "      <th>X168</th>\n",
              "      <th>X169</th>\n",
              "      <th>X170</th>\n",
              "      <th>X171</th>\n",
              "      <th>X172</th>\n",
              "      <th>X173</th>\n",
              "      <th>X174</th>\n",
              "      <th>X175</th>\n",
              "      <th>X176</th>\n",
              "      <th>X177</th>\n",
              "      <th>X178</th>\n",
              "      <th>y</th>\n",
              "    </tr>\n",
              "  </thead>\n",
              "  <tbody>\n",
              "    <tr>\n",
              "      <th>0</th>\n",
              "      <td>X21.V1.791</td>\n",
              "      <td>135</td>\n",
              "      <td>190</td>\n",
              "      <td>229</td>\n",
              "      <td>223</td>\n",
              "      <td>192</td>\n",
              "      <td>125</td>\n",
              "      <td>55</td>\n",
              "      <td>-9</td>\n",
              "      <td>-33</td>\n",
              "      <td>-38</td>\n",
              "      <td>-10</td>\n",
              "      <td>35</td>\n",
              "      <td>64</td>\n",
              "      <td>113</td>\n",
              "      <td>152</td>\n",
              "      <td>164</td>\n",
              "      <td>127</td>\n",
              "      <td>50</td>\n",
              "      <td>-47</td>\n",
              "      <td>-121</td>\n",
              "      <td>-138</td>\n",
              "      <td>-125</td>\n",
              "      <td>-101</td>\n",
              "      <td>-50</td>\n",
              "      <td>11</td>\n",
              "      <td>39</td>\n",
              "      <td>24</td>\n",
              "      <td>48</td>\n",
              "      <td>64</td>\n",
              "      <td>46</td>\n",
              "      <td>13</td>\n",
              "      <td>-19</td>\n",
              "      <td>-61</td>\n",
              "      <td>-96</td>\n",
              "      <td>-130</td>\n",
              "      <td>-132</td>\n",
              "      <td>-116</td>\n",
              "      <td>-115</td>\n",
              "      <td>-71</td>\n",
              "      <td>...</td>\n",
              "      <td>54</td>\n",
              "      <td>90</td>\n",
              "      <td>111</td>\n",
              "      <td>107</td>\n",
              "      <td>64</td>\n",
              "      <td>32</td>\n",
              "      <td>18</td>\n",
              "      <td>-25</td>\n",
              "      <td>-69</td>\n",
              "      <td>-65</td>\n",
              "      <td>-44</td>\n",
              "      <td>-33</td>\n",
              "      <td>-57</td>\n",
              "      <td>-88</td>\n",
              "      <td>-114</td>\n",
              "      <td>-130</td>\n",
              "      <td>-114</td>\n",
              "      <td>-83</td>\n",
              "      <td>-53</td>\n",
              "      <td>-79</td>\n",
              "      <td>-72</td>\n",
              "      <td>-85</td>\n",
              "      <td>-109</td>\n",
              "      <td>-98</td>\n",
              "      <td>-72</td>\n",
              "      <td>-65</td>\n",
              "      <td>-63</td>\n",
              "      <td>-11</td>\n",
              "      <td>10</td>\n",
              "      <td>8</td>\n",
              "      <td>-17</td>\n",
              "      <td>-15</td>\n",
              "      <td>-31</td>\n",
              "      <td>-77</td>\n",
              "      <td>-103</td>\n",
              "      <td>-127</td>\n",
              "      <td>-116</td>\n",
              "      <td>-83</td>\n",
              "      <td>-51</td>\n",
              "      <td>4</td>\n",
              "    </tr>\n",
              "    <tr>\n",
              "      <th>1</th>\n",
              "      <td>X15.V1.924</td>\n",
              "      <td>386</td>\n",
              "      <td>382</td>\n",
              "      <td>356</td>\n",
              "      <td>331</td>\n",
              "      <td>320</td>\n",
              "      <td>315</td>\n",
              "      <td>307</td>\n",
              "      <td>272</td>\n",
              "      <td>244</td>\n",
              "      <td>232</td>\n",
              "      <td>237</td>\n",
              "      <td>258</td>\n",
              "      <td>212</td>\n",
              "      <td>2</td>\n",
              "      <td>-267</td>\n",
              "      <td>-605</td>\n",
              "      <td>-850</td>\n",
              "      <td>-1001</td>\n",
              "      <td>-1109</td>\n",
              "      <td>-1090</td>\n",
              "      <td>-967</td>\n",
              "      <td>-746</td>\n",
              "      <td>-464</td>\n",
              "      <td>-152</td>\n",
              "      <td>118</td>\n",
              "      <td>318</td>\n",
              "      <td>427</td>\n",
              "      <td>473</td>\n",
              "      <td>485</td>\n",
              "      <td>447</td>\n",
              "      <td>397</td>\n",
              "      <td>339</td>\n",
              "      <td>312</td>\n",
              "      <td>314</td>\n",
              "      <td>326</td>\n",
              "      <td>335</td>\n",
              "      <td>332</td>\n",
              "      <td>324</td>\n",
              "      <td>310</td>\n",
              "      <td>...</td>\n",
              "      <td>27</td>\n",
              "      <td>146</td>\n",
              "      <td>229</td>\n",
              "      <td>269</td>\n",
              "      <td>297</td>\n",
              "      <td>307</td>\n",
              "      <td>303</td>\n",
              "      <td>305</td>\n",
              "      <td>306</td>\n",
              "      <td>307</td>\n",
              "      <td>280</td>\n",
              "      <td>231</td>\n",
              "      <td>159</td>\n",
              "      <td>85</td>\n",
              "      <td>51</td>\n",
              "      <td>43</td>\n",
              "      <td>62</td>\n",
              "      <td>63</td>\n",
              "      <td>63</td>\n",
              "      <td>69</td>\n",
              "      <td>89</td>\n",
              "      <td>123</td>\n",
              "      <td>136</td>\n",
              "      <td>127</td>\n",
              "      <td>102</td>\n",
              "      <td>95</td>\n",
              "      <td>105</td>\n",
              "      <td>131</td>\n",
              "      <td>163</td>\n",
              "      <td>168</td>\n",
              "      <td>164</td>\n",
              "      <td>150</td>\n",
              "      <td>146</td>\n",
              "      <td>152</td>\n",
              "      <td>157</td>\n",
              "      <td>156</td>\n",
              "      <td>154</td>\n",
              "      <td>143</td>\n",
              "      <td>129</td>\n",
              "      <td>1</td>\n",
              "    </tr>\n",
              "    <tr>\n",
              "      <th>2</th>\n",
              "      <td>X8.V1.1</td>\n",
              "      <td>-32</td>\n",
              "      <td>-39</td>\n",
              "      <td>-47</td>\n",
              "      <td>-37</td>\n",
              "      <td>-32</td>\n",
              "      <td>-36</td>\n",
              "      <td>-57</td>\n",
              "      <td>-73</td>\n",
              "      <td>-85</td>\n",
              "      <td>-94</td>\n",
              "      <td>-99</td>\n",
              "      <td>-94</td>\n",
              "      <td>-96</td>\n",
              "      <td>-104</td>\n",
              "      <td>-103</td>\n",
              "      <td>-92</td>\n",
              "      <td>-75</td>\n",
              "      <td>-69</td>\n",
              "      <td>-69</td>\n",
              "      <td>-53</td>\n",
              "      <td>-37</td>\n",
              "      <td>-14</td>\n",
              "      <td>-10</td>\n",
              "      <td>-39</td>\n",
              "      <td>-78</td>\n",
              "      <td>-102</td>\n",
              "      <td>-98</td>\n",
              "      <td>-80</td>\n",
              "      <td>-54</td>\n",
              "      <td>-40</td>\n",
              "      <td>-35</td>\n",
              "      <td>-39</td>\n",
              "      <td>-32</td>\n",
              "      <td>-13</td>\n",
              "      <td>7</td>\n",
              "      <td>34</td>\n",
              "      <td>41</td>\n",
              "      <td>33</td>\n",
              "      <td>6</td>\n",
              "      <td>...</td>\n",
              "      <td>-82</td>\n",
              "      <td>-107</td>\n",
              "      <td>-126</td>\n",
              "      <td>-124</td>\n",
              "      <td>-108</td>\n",
              "      <td>-84</td>\n",
              "      <td>-68</td>\n",
              "      <td>-61</td>\n",
              "      <td>-56</td>\n",
              "      <td>-63</td>\n",
              "      <td>-62</td>\n",
              "      <td>-33</td>\n",
              "      <td>1</td>\n",
              "      <td>28</td>\n",
              "      <td>45</td>\n",
              "      <td>37</td>\n",
              "      <td>48</td>\n",
              "      <td>62</td>\n",
              "      <td>80</td>\n",
              "      <td>66</td>\n",
              "      <td>23</td>\n",
              "      <td>-11</td>\n",
              "      <td>-39</td>\n",
              "      <td>-44</td>\n",
              "      <td>-42</td>\n",
              "      <td>-45</td>\n",
              "      <td>-48</td>\n",
              "      <td>-42</td>\n",
              "      <td>-6</td>\n",
              "      <td>29</td>\n",
              "      <td>57</td>\n",
              "      <td>64</td>\n",
              "      <td>48</td>\n",
              "      <td>19</td>\n",
              "      <td>-12</td>\n",
              "      <td>-30</td>\n",
              "      <td>-35</td>\n",
              "      <td>-35</td>\n",
              "      <td>-36</td>\n",
              "      <td>5</td>\n",
              "    </tr>\n",
              "    <tr>\n",
              "      <th>3</th>\n",
              "      <td>X16.V1.60</td>\n",
              "      <td>-105</td>\n",
              "      <td>-101</td>\n",
              "      <td>-96</td>\n",
              "      <td>-92</td>\n",
              "      <td>-89</td>\n",
              "      <td>-95</td>\n",
              "      <td>-102</td>\n",
              "      <td>-100</td>\n",
              "      <td>-87</td>\n",
              "      <td>-79</td>\n",
              "      <td>-72</td>\n",
              "      <td>-68</td>\n",
              "      <td>-74</td>\n",
              "      <td>-80</td>\n",
              "      <td>-83</td>\n",
              "      <td>-73</td>\n",
              "      <td>-68</td>\n",
              "      <td>-61</td>\n",
              "      <td>-58</td>\n",
              "      <td>-59</td>\n",
              "      <td>-64</td>\n",
              "      <td>-79</td>\n",
              "      <td>-84</td>\n",
              "      <td>-97</td>\n",
              "      <td>-94</td>\n",
              "      <td>-84</td>\n",
              "      <td>-77</td>\n",
              "      <td>-75</td>\n",
              "      <td>-72</td>\n",
              "      <td>-68</td>\n",
              "      <td>-76</td>\n",
              "      <td>-76</td>\n",
              "      <td>-72</td>\n",
              "      <td>-67</td>\n",
              "      <td>-69</td>\n",
              "      <td>-69</td>\n",
              "      <td>-69</td>\n",
              "      <td>-67</td>\n",
              "      <td>-68</td>\n",
              "      <td>...</td>\n",
              "      <td>-69</td>\n",
              "      <td>-66</td>\n",
              "      <td>-74</td>\n",
              "      <td>-69</td>\n",
              "      <td>-61</td>\n",
              "      <td>-51</td>\n",
              "      <td>-45</td>\n",
              "      <td>-45</td>\n",
              "      <td>-49</td>\n",
              "      <td>-58</td>\n",
              "      <td>-64</td>\n",
              "      <td>-78</td>\n",
              "      <td>-80</td>\n",
              "      <td>-90</td>\n",
              "      <td>-87</td>\n",
              "      <td>-83</td>\n",
              "      <td>-78</td>\n",
              "      <td>-64</td>\n",
              "      <td>-38</td>\n",
              "      <td>-22</td>\n",
              "      <td>-29</td>\n",
              "      <td>-42</td>\n",
              "      <td>-51</td>\n",
              "      <td>-68</td>\n",
              "      <td>-71</td>\n",
              "      <td>-69</td>\n",
              "      <td>-69</td>\n",
              "      <td>-74</td>\n",
              "      <td>-74</td>\n",
              "      <td>-80</td>\n",
              "      <td>-82</td>\n",
              "      <td>-81</td>\n",
              "      <td>-80</td>\n",
              "      <td>-77</td>\n",
              "      <td>-85</td>\n",
              "      <td>-77</td>\n",
              "      <td>-72</td>\n",
              "      <td>-69</td>\n",
              "      <td>-65</td>\n",
              "      <td>5</td>\n",
              "    </tr>\n",
              "    <tr>\n",
              "      <th>4</th>\n",
              "      <td>X20.V1.54</td>\n",
              "      <td>-9</td>\n",
              "      <td>-65</td>\n",
              "      <td>-98</td>\n",
              "      <td>-102</td>\n",
              "      <td>-78</td>\n",
              "      <td>-48</td>\n",
              "      <td>-16</td>\n",
              "      <td>0</td>\n",
              "      <td>-21</td>\n",
              "      <td>-59</td>\n",
              "      <td>-90</td>\n",
              "      <td>-103</td>\n",
              "      <td>-84</td>\n",
              "      <td>-43</td>\n",
              "      <td>-9</td>\n",
              "      <td>3</td>\n",
              "      <td>-21</td>\n",
              "      <td>-60</td>\n",
              "      <td>-96</td>\n",
              "      <td>-103</td>\n",
              "      <td>-75</td>\n",
              "      <td>-29</td>\n",
              "      <td>14</td>\n",
              "      <td>55</td>\n",
              "      <td>78</td>\n",
              "      <td>73</td>\n",
              "      <td>28</td>\n",
              "      <td>-13</td>\n",
              "      <td>-43</td>\n",
              "      <td>-68</td>\n",
              "      <td>-78</td>\n",
              "      <td>-75</td>\n",
              "      <td>-55</td>\n",
              "      <td>-41</td>\n",
              "      <td>-19</td>\n",
              "      <td>-20</td>\n",
              "      <td>-29</td>\n",
              "      <td>-36</td>\n",
              "      <td>-20</td>\n",
              "      <td>...</td>\n",
              "      <td>38</td>\n",
              "      <td>26</td>\n",
              "      <td>10</td>\n",
              "      <td>-4</td>\n",
              "      <td>-13</td>\n",
              "      <td>-8</td>\n",
              "      <td>0</td>\n",
              "      <td>10</td>\n",
              "      <td>19</td>\n",
              "      <td>29</td>\n",
              "      <td>57</td>\n",
              "      <td>63</td>\n",
              "      <td>45</td>\n",
              "      <td>7</td>\n",
              "      <td>-13</td>\n",
              "      <td>-23</td>\n",
              "      <td>-9</td>\n",
              "      <td>9</td>\n",
              "      <td>11</td>\n",
              "      <td>3</td>\n",
              "      <td>-1</td>\n",
              "      <td>-2</td>\n",
              "      <td>4</td>\n",
              "      <td>18</td>\n",
              "      <td>27</td>\n",
              "      <td>27</td>\n",
              "      <td>14</td>\n",
              "      <td>15</td>\n",
              "      <td>11</td>\n",
              "      <td>10</td>\n",
              "      <td>4</td>\n",
              "      <td>2</td>\n",
              "      <td>-12</td>\n",
              "      <td>-32</td>\n",
              "      <td>-41</td>\n",
              "      <td>-65</td>\n",
              "      <td>-83</td>\n",
              "      <td>-89</td>\n",
              "      <td>-73</td>\n",
              "      <td>5</td>\n",
              "    </tr>\n",
              "    <tr>\n",
              "      <th>5</th>\n",
              "      <td>X14.V1.56</td>\n",
              "      <td>55</td>\n",
              "      <td>28</td>\n",
              "      <td>18</td>\n",
              "      <td>16</td>\n",
              "      <td>16</td>\n",
              "      <td>19</td>\n",
              "      <td>25</td>\n",
              "      <td>40</td>\n",
              "      <td>52</td>\n",
              "      <td>66</td>\n",
              "      <td>81</td>\n",
              "      <td>98</td>\n",
              "      <td>111</td>\n",
              "      <td>122</td>\n",
              "      <td>105</td>\n",
              "      <td>85</td>\n",
              "      <td>66</td>\n",
              "      <td>51</td>\n",
              "      <td>34</td>\n",
              "      <td>19</td>\n",
              "      <td>16</td>\n",
              "      <td>8</td>\n",
              "      <td>-5</td>\n",
              "      <td>-21</td>\n",
              "      <td>-18</td>\n",
              "      <td>-14</td>\n",
              "      <td>3</td>\n",
              "      <td>27</td>\n",
              "      <td>46</td>\n",
              "      <td>57</td>\n",
              "      <td>60</td>\n",
              "      <td>51</td>\n",
              "      <td>35</td>\n",
              "      <td>22</td>\n",
              "      <td>20</td>\n",
              "      <td>28</td>\n",
              "      <td>28</td>\n",
              "      <td>35</td>\n",
              "      <td>43</td>\n",
              "      <td>...</td>\n",
              "      <td>-4</td>\n",
              "      <td>-17</td>\n",
              "      <td>-30</td>\n",
              "      <td>-45</td>\n",
              "      <td>-71</td>\n",
              "      <td>-81</td>\n",
              "      <td>-78</td>\n",
              "      <td>-69</td>\n",
              "      <td>-60</td>\n",
              "      <td>-45</td>\n",
              "      <td>-33</td>\n",
              "      <td>-25</td>\n",
              "      <td>-14</td>\n",
              "      <td>-2</td>\n",
              "      <td>3</td>\n",
              "      <td>-5</td>\n",
              "      <td>-18</td>\n",
              "      <td>-39</td>\n",
              "      <td>-61</td>\n",
              "      <td>-73</td>\n",
              "      <td>-77</td>\n",
              "      <td>-76</td>\n",
              "      <td>-79</td>\n",
              "      <td>-64</td>\n",
              "      <td>-40</td>\n",
              "      <td>-25</td>\n",
              "      <td>0</td>\n",
              "      <td>9</td>\n",
              "      <td>12</td>\n",
              "      <td>-6</td>\n",
              "      <td>-12</td>\n",
              "      <td>-31</td>\n",
              "      <td>-42</td>\n",
              "      <td>-54</td>\n",
              "      <td>-60</td>\n",
              "      <td>-64</td>\n",
              "      <td>-60</td>\n",
              "      <td>-56</td>\n",
              "      <td>-55</td>\n",
              "      <td>5</td>\n",
              "    </tr>\n",
              "    <tr>\n",
              "      <th>6</th>\n",
              "      <td>X3.V1.191</td>\n",
              "      <td>-55</td>\n",
              "      <td>-9</td>\n",
              "      <td>52</td>\n",
              "      <td>111</td>\n",
              "      <td>135</td>\n",
              "      <td>129</td>\n",
              "      <td>103</td>\n",
              "      <td>72</td>\n",
              "      <td>37</td>\n",
              "      <td>0</td>\n",
              "      <td>-38</td>\n",
              "      <td>-77</td>\n",
              "      <td>-113</td>\n",
              "      <td>-128</td>\n",
              "      <td>-121</td>\n",
              "      <td>-105</td>\n",
              "      <td>-71</td>\n",
              "      <td>-27</td>\n",
              "      <td>13</td>\n",
              "      <td>44</td>\n",
              "      <td>60</td>\n",
              "      <td>64</td>\n",
              "      <td>40</td>\n",
              "      <td>30</td>\n",
              "      <td>25</td>\n",
              "      <td>28</td>\n",
              "      <td>34</td>\n",
              "      <td>31</td>\n",
              "      <td>18</td>\n",
              "      <td>-19</td>\n",
              "      <td>-53</td>\n",
              "      <td>-76</td>\n",
              "      <td>-81</td>\n",
              "      <td>-74</td>\n",
              "      <td>-57</td>\n",
              "      <td>-36</td>\n",
              "      <td>-21</td>\n",
              "      <td>12</td>\n",
              "      <td>55</td>\n",
              "      <td>...</td>\n",
              "      <td>94</td>\n",
              "      <td>109</td>\n",
              "      <td>107</td>\n",
              "      <td>88</td>\n",
              "      <td>52</td>\n",
              "      <td>5</td>\n",
              "      <td>-24</td>\n",
              "      <td>-37</td>\n",
              "      <td>-50</td>\n",
              "      <td>-58</td>\n",
              "      <td>-66</td>\n",
              "      <td>-65</td>\n",
              "      <td>-60</td>\n",
              "      <td>-45</td>\n",
              "      <td>-20</td>\n",
              "      <td>1</td>\n",
              "      <td>23</td>\n",
              "      <td>50</td>\n",
              "      <td>74</td>\n",
              "      <td>99</td>\n",
              "      <td>125</td>\n",
              "      <td>141</td>\n",
              "      <td>129</td>\n",
              "      <td>95</td>\n",
              "      <td>41</td>\n",
              "      <td>-21</td>\n",
              "      <td>-77</td>\n",
              "      <td>-117</td>\n",
              "      <td>-135</td>\n",
              "      <td>-137</td>\n",
              "      <td>-125</td>\n",
              "      <td>-99</td>\n",
              "      <td>-79</td>\n",
              "      <td>-62</td>\n",
              "      <td>-41</td>\n",
              "      <td>-26</td>\n",
              "      <td>11</td>\n",
              "      <td>67</td>\n",
              "      <td>128</td>\n",
              "      <td>4</td>\n",
              "    </tr>\n",
              "    <tr>\n",
              "      <th>7</th>\n",
              "      <td>X11.V1.273</td>\n",
              "      <td>1</td>\n",
              "      <td>-2</td>\n",
              "      <td>-8</td>\n",
              "      <td>-11</td>\n",
              "      <td>-12</td>\n",
              "      <td>-17</td>\n",
              "      <td>-15</td>\n",
              "      <td>-16</td>\n",
              "      <td>-18</td>\n",
              "      <td>-17</td>\n",
              "      <td>-19</td>\n",
              "      <td>-18</td>\n",
              "      <td>-16</td>\n",
              "      <td>-15</td>\n",
              "      <td>-14</td>\n",
              "      <td>-21</td>\n",
              "      <td>-19</td>\n",
              "      <td>-24</td>\n",
              "      <td>-24</td>\n",
              "      <td>-24</td>\n",
              "      <td>-17</td>\n",
              "      <td>-20</td>\n",
              "      <td>-23</td>\n",
              "      <td>-15</td>\n",
              "      <td>-17</td>\n",
              "      <td>-20</td>\n",
              "      <td>-18</td>\n",
              "      <td>-19</td>\n",
              "      <td>-20</td>\n",
              "      <td>-19</td>\n",
              "      <td>-18</td>\n",
              "      <td>-20</td>\n",
              "      <td>-25</td>\n",
              "      <td>-27</td>\n",
              "      <td>-24</td>\n",
              "      <td>-22</td>\n",
              "      <td>-20</td>\n",
              "      <td>-9</td>\n",
              "      <td>0</td>\n",
              "      <td>...</td>\n",
              "      <td>-20</td>\n",
              "      <td>-26</td>\n",
              "      <td>-24</td>\n",
              "      <td>-25</td>\n",
              "      <td>-35</td>\n",
              "      <td>-41</td>\n",
              "      <td>-41</td>\n",
              "      <td>-53</td>\n",
              "      <td>-61</td>\n",
              "      <td>-58</td>\n",
              "      <td>-59</td>\n",
              "      <td>-55</td>\n",
              "      <td>-53</td>\n",
              "      <td>-65</td>\n",
              "      <td>-78</td>\n",
              "      <td>-87</td>\n",
              "      <td>-97</td>\n",
              "      <td>-100</td>\n",
              "      <td>-106</td>\n",
              "      <td>-104</td>\n",
              "      <td>-107</td>\n",
              "      <td>-110</td>\n",
              "      <td>-110</td>\n",
              "      <td>-109</td>\n",
              "      <td>-104</td>\n",
              "      <td>-118</td>\n",
              "      <td>-111</td>\n",
              "      <td>-102</td>\n",
              "      <td>-80</td>\n",
              "      <td>-67</td>\n",
              "      <td>-79</td>\n",
              "      <td>-91</td>\n",
              "      <td>-97</td>\n",
              "      <td>-88</td>\n",
              "      <td>-76</td>\n",
              "      <td>-72</td>\n",
              "      <td>-66</td>\n",
              "      <td>-57</td>\n",
              "      <td>-39</td>\n",
              "      <td>2</td>\n",
              "    </tr>\n",
              "    <tr>\n",
              "      <th>8</th>\n",
              "      <td>X19.V1.874</td>\n",
              "      <td>-278</td>\n",
              "      <td>-246</td>\n",
              "      <td>-215</td>\n",
              "      <td>-191</td>\n",
              "      <td>-177</td>\n",
              "      <td>-167</td>\n",
              "      <td>-157</td>\n",
              "      <td>-139</td>\n",
              "      <td>-118</td>\n",
              "      <td>-92</td>\n",
              "      <td>-63</td>\n",
              "      <td>-39</td>\n",
              "      <td>-11</td>\n",
              "      <td>14</td>\n",
              "      <td>36</td>\n",
              "      <td>60</td>\n",
              "      <td>70</td>\n",
              "      <td>78</td>\n",
              "      <td>79</td>\n",
              "      <td>69</td>\n",
              "      <td>27</td>\n",
              "      <td>-45</td>\n",
              "      <td>-123</td>\n",
              "      <td>-183</td>\n",
              "      <td>-218</td>\n",
              "      <td>-242</td>\n",
              "      <td>-256</td>\n",
              "      <td>-256</td>\n",
              "      <td>-236</td>\n",
              "      <td>-205</td>\n",
              "      <td>-165</td>\n",
              "      <td>-125</td>\n",
              "      <td>-84</td>\n",
              "      <td>-41</td>\n",
              "      <td>-10</td>\n",
              "      <td>12</td>\n",
              "      <td>35</td>\n",
              "      <td>58</td>\n",
              "      <td>71</td>\n",
              "      <td>...</td>\n",
              "      <td>74</td>\n",
              "      <td>79</td>\n",
              "      <td>81</td>\n",
              "      <td>76</td>\n",
              "      <td>65</td>\n",
              "      <td>63</td>\n",
              "      <td>62</td>\n",
              "      <td>65</td>\n",
              "      <td>67</td>\n",
              "      <td>70</td>\n",
              "      <td>63</td>\n",
              "      <td>45</td>\n",
              "      <td>20</td>\n",
              "      <td>-11</td>\n",
              "      <td>-32</td>\n",
              "      <td>-26</td>\n",
              "      <td>3</td>\n",
              "      <td>40</td>\n",
              "      <td>85</td>\n",
              "      <td>124</td>\n",
              "      <td>182</td>\n",
              "      <td>248</td>\n",
              "      <td>349</td>\n",
              "      <td>418</td>\n",
              "      <td>419</td>\n",
              "      <td>291</td>\n",
              "      <td>73</td>\n",
              "      <td>-152</td>\n",
              "      <td>-311</td>\n",
              "      <td>-386</td>\n",
              "      <td>-400</td>\n",
              "      <td>-379</td>\n",
              "      <td>-336</td>\n",
              "      <td>-281</td>\n",
              "      <td>-226</td>\n",
              "      <td>-174</td>\n",
              "      <td>-125</td>\n",
              "      <td>-79</td>\n",
              "      <td>-40</td>\n",
              "      <td>1</td>\n",
              "    </tr>\n",
              "    <tr>\n",
              "      <th>9</th>\n",
              "      <td>X3.V1.491</td>\n",
              "      <td>8</td>\n",
              "      <td>15</td>\n",
              "      <td>13</td>\n",
              "      <td>3</td>\n",
              "      <td>-6</td>\n",
              "      <td>-8</td>\n",
              "      <td>-5</td>\n",
              "      <td>4</td>\n",
              "      <td>25</td>\n",
              "      <td>41</td>\n",
              "      <td>48</td>\n",
              "      <td>44</td>\n",
              "      <td>34</td>\n",
              "      <td>16</td>\n",
              "      <td>-2</td>\n",
              "      <td>-11</td>\n",
              "      <td>-24</td>\n",
              "      <td>11</td>\n",
              "      <td>33</td>\n",
              "      <td>43</td>\n",
              "      <td>48</td>\n",
              "      <td>42</td>\n",
              "      <td>33</td>\n",
              "      <td>14</td>\n",
              "      <td>-1</td>\n",
              "      <td>-7</td>\n",
              "      <td>-17</td>\n",
              "      <td>-36</td>\n",
              "      <td>-59</td>\n",
              "      <td>-74</td>\n",
              "      <td>-88</td>\n",
              "      <td>-84</td>\n",
              "      <td>-64</td>\n",
              "      <td>-37</td>\n",
              "      <td>-8</td>\n",
              "      <td>24</td>\n",
              "      <td>47</td>\n",
              "      <td>49</td>\n",
              "      <td>42</td>\n",
              "      <td>...</td>\n",
              "      <td>39</td>\n",
              "      <td>29</td>\n",
              "      <td>12</td>\n",
              "      <td>-8</td>\n",
              "      <td>-10</td>\n",
              "      <td>-13</td>\n",
              "      <td>-12</td>\n",
              "      <td>-7</td>\n",
              "      <td>1</td>\n",
              "      <td>3</td>\n",
              "      <td>6</td>\n",
              "      <td>13</td>\n",
              "      <td>12</td>\n",
              "      <td>7</td>\n",
              "      <td>0</td>\n",
              "      <td>2</td>\n",
              "      <td>2</td>\n",
              "      <td>15</td>\n",
              "      <td>28</td>\n",
              "      <td>27</td>\n",
              "      <td>18</td>\n",
              "      <td>2</td>\n",
              "      <td>-5</td>\n",
              "      <td>-6</td>\n",
              "      <td>13</td>\n",
              "      <td>41</td>\n",
              "      <td>66</td>\n",
              "      <td>72</td>\n",
              "      <td>68</td>\n",
              "      <td>65</td>\n",
              "      <td>49</td>\n",
              "      <td>31</td>\n",
              "      <td>11</td>\n",
              "      <td>-5</td>\n",
              "      <td>-17</td>\n",
              "      <td>-19</td>\n",
              "      <td>-15</td>\n",
              "      <td>-15</td>\n",
              "      <td>-11</td>\n",
              "      <td>4</td>\n",
              "    </tr>\n",
              "  </tbody>\n",
              "</table>\n",
              "<p>10 rows × 180 columns</p>\n",
              "</div>"
            ],
            "text/plain": [
              "   Unnamed: 0   X1   X2   X3   X4   X5  ...  X174  X175  X176  X177  X178  y\n",
              "0  X21.V1.791  135  190  229  223  192  ...  -103  -127  -116   -83   -51  4\n",
              "1  X15.V1.924  386  382  356  331  320  ...   157   156   154   143   129  1\n",
              "2     X8.V1.1  -32  -39  -47  -37  -32  ...   -12   -30   -35   -35   -36  5\n",
              "3   X16.V1.60 -105 -101  -96  -92  -89  ...   -85   -77   -72   -69   -65  5\n",
              "4   X20.V1.54   -9  -65  -98 -102  -78  ...   -41   -65   -83   -89   -73  5\n",
              "5   X14.V1.56   55   28   18   16   16  ...   -60   -64   -60   -56   -55  5\n",
              "6   X3.V1.191  -55   -9   52  111  135  ...   -41   -26    11    67   128  4\n",
              "7  X11.V1.273    1   -2   -8  -11  -12  ...   -76   -72   -66   -57   -39  2\n",
              "8  X19.V1.874 -278 -246 -215 -191 -177  ...  -226  -174  -125   -79   -40  1\n",
              "9   X3.V1.491    8   15   13    3   -6  ...   -17   -19   -15   -15   -11  4\n",
              "\n",
              "[10 rows x 180 columns]"
            ]
          },
          "metadata": {
            "tags": []
          },
          "execution_count": 3
        }
      ]
    },
    {
      "cell_type": "markdown",
      "metadata": {
        "id": "H07YxLyTnB3V"
      },
      "source": [
        "##Data Transformation and Normalization\n"
      ]
    },
    {
      "cell_type": "markdown",
      "metadata": {
        "id": "998Dx8RrjXgP"
      },
      "source": [
        "##Balanced Dataset"
      ]
    },
    {
      "cell_type": "code",
      "metadata": {
        "colab": {
          "base_uri": "https://localhost:8080/",
          "height": 262
        },
        "id": "TrIXuIQRiOGf",
        "outputId": "e52aebb7-4633-4938-f240-40bc67934dd1"
      },
      "source": [
        "d['y'].value_counts().plot(kind='bar');"
      ],
      "execution_count": 4,
      "outputs": [
        {
          "output_type": "display_data",
          "data": {
            "image/png": "[encoded data removed]",
            "text/plain": [
              "<Figure size 432x288 with 1 Axes>"
            ]
          },
          "metadata": {
            "tags": [],
            "needs_background": "light"
          }
        }
      ]
    },
    {
      "cell_type": "code",
      "metadata": {
        "id": "brJ7_8o_heok"
      },
      "source": [
        "d.rename(columns={ d.columns[0]: \"Index\" }, inplace = True)\n",
        "#d = d.set_index(d['Index'])\n",
        "#d.drop('Index',axis='columns',inplace=True)"
      ],
      "execution_count": 5,
      "outputs": []
    },
    {
      "cell_type": "markdown",
      "metadata": {
        "id": "EaOdmHV169PF"
      },
      "source": [
        "##Saumya Dataset\n"
      ]
    },
    {
      "cell_type": "code",
      "metadata": {
        "id": "Pc6Kg_ct7ACO"
      },
      "source": [
        "ds=d"
      ],
      "execution_count": null,
      "outputs": []
    },
    {
      "cell_type": "markdown",
      "metadata": {
        "id": "BR0EtGZF7NGX"
      },
      "source": [
        "##Features"
      ]
    },
    {
      "cell_type": "code",
      "metadata": {
        "id": "_w_l-6JvnMYC"
      },
      "source": [
        "y=d.y\n",
        "d.drop(columns='y')\n",
        "d.iloc[:,1:] = Normalizer(norm='l1').fit_transform(d.iloc[:,1:])\n",
        "d['y']=y"
      ],
      "execution_count": 6,
      "outputs": []
    },
    {
      "cell_type": "code",
      "metadata": {
        "id": "kFI101wU7L5Z"
      },
      "source": [
        "d['y']=d['y'].astype(int)\n",
        "d_e=d[d[\"y\"]==1]\n",
        "d_ne=d[d[\"y\"]!=1]"
      ],
      "execution_count": 7,
      "outputs": []
    },
    {
      "cell_type": "code",
      "metadata": {
        "colab": {
          "base_uri": "https://localhost:8080/"
        },
        "id": "tQvjsx2DU5rl",
        "outputId": "eba1b0f6-e697-40f7-d084-433ded1cd7fe"
      },
      "source": [
        "d_e.shape"
      ],
      "execution_count": 10,
      "outputs": [
        {
          "output_type": "execute_result",
          "data": {
            "text/plain": [
              "(2300, 180)"
            ]
          },
          "metadata": {
            "tags": []
          },
          "execution_count": 10
        }
      ]
    },
    {
      "cell_type": "code",
      "metadata": {
        "colab": {
          "base_uri": "https://localhost:8080/",
          "height": 449
        },
        "id": "B0MLfe2M7K7H",
        "outputId": "e10d9938-9197-4e32-c758-c119cc63b60e"
      },
      "source": [
        "matrix=d_e.iloc[:,1:179]\n",
        "plt.hist(matrix)"
      ],
      "execution_count": null,
      "outputs": [
        {
          "output_type": "execute_result",
          "data": {
            "text/plain": [
              "(array([[ 0.,  0., 16., ...,  0.,  0.,  0.],\n",
              "        [ 0.,  0.,  8., ...,  0.,  0.,  0.],\n",
              "        [ 0.,  0.,  0., ...,  0.,  0.,  0.],\n",
              "        ...,\n",
              "        [ 0.,  0.,  3., ...,  0.,  0.,  0.],\n",
              "        [ 0.,  0.,  9., ...,  0.,  0.,  0.],\n",
              "        [ 0.,  0.,  7., ...,  0.,  0.,  0.]]),\n",
              " array([-0.04978339, -0.03779219, -0.02580099, -0.01380979, -0.00181859,\n",
              "         0.01017261,  0.02216381,  0.03415501,  0.04614621,  0.05813741,\n",
              "         0.07012861]),\n",
              " <a list of 2300 Lists of Patches objects>)"
            ]
          },
          "metadata": {
            "tags": []
          },
          "execution_count": 10
        },
        {
          "output_type": "display_data",
          "data": {
            "image/png": "[encoded data removed]",
            "text/plain": [
              "<Figure size 432x288 with 1 Axes>"
            ]
          },
          "metadata": {
            "tags": [],
            "needs_background": "light"
          }
        }
      ]
    },
    {
      "cell_type": "code",
      "metadata": {
        "colab": {
          "base_uri": "https://localhost:8080/",
          "height": 449
        },
        "id": "4D1WYfEZC1Mo",
        "outputId": "78895912-459d-4821-c9bd-41eaec6c21a1"
      },
      "source": [
        "matrix2=d_ne.iloc[:,1:179]\n",
        "plt.hist(matrix2)"
      ],
      "execution_count": null,
      "outputs": [
        {
          "output_type": "execute_result",
          "data": {
            "text/plain": [
              "(array([[0., 0., 3., ..., 0., 0., 0.],\n",
              "        [0., 0., 0., ..., 0., 0., 0.],\n",
              "        [0., 0., 0., ..., 0., 0., 0.],\n",
              "        ...,\n",
              "        [0., 0., 0., ..., 0., 0., 0.],\n",
              "        [0., 0., 0., ..., 0., 0., 0.],\n",
              "        [0., 0., 0., ..., 0., 0., 0.]]),\n",
              " array([-0.05184219, -0.04054031, -0.02923842, -0.01793654, -0.00663466,\n",
              "         0.00466723,  0.01596911,  0.027271  ,  0.03857288,  0.04987476,\n",
              "         0.06117665]),\n",
              " <a list of 9200 Lists of Patches objects>)"
            ]
          },
          "metadata": {
            "tags": []
          },
          "execution_count": 11
        },
        {
          "output_type": "display_data",
          "data": {
            "image/png": "[encoded data removed]",
            "text/plain": [
              "<Figure size 432x288 with 1 Axes>"
            ]
          },
          "metadata": {
            "tags": [],
            "needs_background": "light"
          }
        }
      ]
    },
    {
      "cell_type": "code",
      "metadata": {
        "id": "DlpowXoWDIl9"
      },
      "source": [
        "d.drop('y',axis='columns',inplace=True)"
      ],
      "execution_count": 11,
      "outputs": []
    },
    {
      "cell_type": "code",
      "metadata": {
        "id": "_q6t3odBD9Lt"
      },
      "source": [
        "df=pd.DataFrame()\n",
        "df['skew']=d.skew(axis = 1, skipna = True) \n",
        "df['mean']=d.mean(axis = 1, skipna = True)\n",
        "df['kurtosis']=d.kurtosis(axis = 1, skipna = True) \n",
        "df['variance']=d.var(axis = 1, skipna = True) \n",
        "df['min']=d.min(axis = 1, skipna = True) \n",
        "df['max']=d.max(axis = 1, skipna = True) \n",
        "#df['range']=d.range(axis = 1, skipna = True) \n",
        "df['mad']=d.iloc[:,1:179].mad(axis=1)\n",
        "df['y']=y\n",
        "d1=pd.DataFrame()\n",
        "d1=d.T"
      ],
      "execution_count": 12,
      "outputs": []
    },
    {
      "cell_type": "markdown",
      "metadata": {
        "id": "GdvbqOOcVplG"
      },
      "source": [
        "##Freq Data"
      ]
    },
    {
      "cell_type": "code",
      "metadata": {
        "id": "wqQAZzkFOXzG"
      },
      "source": [
        "freq_de=pd.DataFrame()\n",
        "freq_dne=pd.DataFrame()\n",
        "from scipy import fftpack\n",
        "SR=178\n",
        "N=(1-0)*SR\n",
        "frequency = np.linspace (0.0, 89, int (N/2))\n",
        "freq_de =pd.DataFrame(fftpack.fft(d_e.iloc[0:2300,1:179]))\n",
        "freq_dne =pd.DataFrame(fftpack.fft(d_ne.iloc[0:9200,1:179]))\n",
        "#y_axis = 2/N * np.abs (freq_d [0:np.int (N/2)])\n",
        "freq_de=freq_de.applymap(np.absolute)\n",
        "freq_dne=freq_dne.applymap(np.absolute)"
      ],
      "execution_count": 26,
      "outputs": []
    },
    {
      "cell_type": "code",
      "metadata": {
        "id": "KhO3EVgmsw6e"
      },
      "source": [
        "d_e=d_e.T\n",
        "d_ne=d_ne.T"
      ],
      "execution_count": null,
      "outputs": []
    },
    {
      "cell_type": "code",
      "metadata": {
        "id": "Mq_oZkiXmJt-"
      },
      "source": [
        "freq_de=freq_de.T\n",
        "freq_dne=freq_dne.T"
      ],
      "execution_count": 102,
      "outputs": []
    },
    {
      "cell_type": "code",
      "metadata": {
        "colab": {
          "base_uri": "https://localhost:8080/",
          "height": 255
        },
        "id": "wqp8ngSFMib8",
        "outputId": "76737a93-fb15-4f9c-fd93-6e1ade9a29e8"
      },
      "source": [
        "d_e.iloc[1:179,0:6].plot(subplots=True)\n",
        "plt.show()"
      ],
      "execution_count": 94,
      "outputs": [
        {
          "output_type": "display_data",
          "data": {
            "image/png": "[encoded data removed]",
            "text/plain": [
              "<Figure size 432x288 with 6 Axes>"
            ]
          },
          "metadata": {
            "tags": [],
            "needs_background": "light"
          }
        }
      ]
    },
    {
      "cell_type": "code",
      "metadata": {
        "colab": {
          "base_uri": "https://localhost:8080/",
          "height": 255
        },
        "id": "yTSRiAZGfddI",
        "outputId": "452af201-5303-45bc-fcbc-1c570bfd76a1"
      },
      "source": [
        "d_ne.iloc[1:179,0:6].plot(subplots=True)\n",
        "plt.show()"
      ],
      "execution_count": 96,
      "outputs": [
        {
          "output_type": "display_data",
          "data": {
            "image/png": "[encoded data removed]",
            "text/plain": [
              "<Figure size 432x288 with 6 Axes>"
            ]
          },
          "metadata": {
            "tags": [],
            "needs_background": "light"
          }
        }
      ]
    },
    {
      "cell_type": "code",
      "metadata": {
        "colab": {
          "base_uri": "https://localhost:8080/",
          "height": 252
        },
        "id": "VQwQuZk9N55U",
        "outputId": "7c5337f9-9066-4b0f-a386-ff529406687d"
      },
      "source": [
        "freq_de.iloc[0:178,0:6].plot(subplots=True)\n",
        "plt.show()"
      ],
      "execution_count": 103,
      "outputs": [
        {
          "output_type": "display_data",
          "data": {
            "image/png": "[encoded data removed]",
            "text/plain": [
              "<Figure size 432x288 with 6 Axes>"
            ]
          },
          "metadata": {
            "tags": [],
            "needs_background": "light"
          }
        }
      ]
    },
    {
      "cell_type": "code",
      "metadata": {
        "colab": {
          "base_uri": "https://localhost:8080/",
          "height": 252
        },
        "id": "u-sekaaXfEi7",
        "outputId": "e76ee2eb-88f9-4691-a8fa-dccb6153db32"
      },
      "source": [
        "freq_dne.iloc[0:178,0:6].plot(subplots=True)\n",
        "plt.show()"
      ],
      "execution_count": 104,
      "outputs": [
        {
          "output_type": "display_data",
          "data": {
            "image/png": "[encoded data removed]",
            "text/plain": [
              "<Figure size 432x288 with 6 Axes>"
            ]
          },
          "metadata": {
            "tags": [],
            "needs_background": "light"
          }
        }
      ]
    },
    {
      "cell_type": "markdown",
      "metadata": {
        "id": "_T6vKIDLMCXd"
      },
      "source": [
        "Splitting Data for BOX Plots\n"
      ]
    },
    {
      "cell_type": "code",
      "metadata": {
        "id": "h4xs7f2cLjUd"
      },
      "source": [
        "dfe=pd.DataFrame\n",
        "dfne=pd.DataFrame\n",
        "dfe=d[df[\"y\"]==1]\n",
        "dfne=d[df[\"y\"]!=1]\n",
        "boxplot = dfe.boxplot(column=['min','max','mean','mad','variance'])\n",
        "boxplot = dfne.boxplot(column=['min','max','mean','mad','variance'])"
      ],
      "execution_count": null,
      "outputs": []
    },
    {
      "cell_type": "markdown",
      "metadata": {
        "id": "qvSszvTwVm9B"
      },
      "source": [
        "###Peaks"
      ]
    },
    {
      "cell_type": "code",
      "metadata": {
        "colab": {
          "base_uri": "https://localhost:8080/"
        },
        "id": "h_gT0Huwt9Vn",
        "outputId": "4a6c7cb8-32b1-40d1-8a18-4db104601243"
      },
      "source": [
        "d_train=pd.DataFrame\n",
        "d_train=d\n",
        "d_train['skew']= df['skew']\n",
        "d_train['mean']= df['mean']\n",
        "d_train['kurtosis']= df['kurtosis']\n",
        "d_train['variance']= df['variance']\n",
        "d_train['min']= df['min']\n",
        "d_train['max']= df['max']\n",
        "d_train['mad']= df['mad']\n",
        "d.shape"
      ],
      "execution_count": null,
      "outputs": [
        {
          "output_type": "execute_result",
          "data": {
            "text/plain": [
              "(11500, 186)"
            ]
          },
          "metadata": {
            "tags": []
          },
          "execution_count": 21
        }
      ]
    },
    {
      "cell_type": "code",
      "metadata": {
        "id": "ryYDnjjNmKgN"
      },
      "source": [
        "X = df.iloc[:,:7].values\n",
        "# Splitting the dataset into the Training set and Test set\n",
        "from sklearn.model_selection import train_test_split\n",
        "from xgboost import XGBClassifier\n",
        "X_train, X_test, y_train, y_test = train_test_split(X, y, test_size = 0.3, random_state = 0)\n",
        "# Feature Scaling\n",
        "from sklearn.preprocessing import StandardScaler\n",
        "sc = StandardScaler()\n",
        "X_train = sc.fit_transform(X_train)\n",
        "X_test = sc.transform(X_test)\n",
        "\n",
        "'''\n",
        "from sklearn.svm import SVC\n",
        "classifier = SVC(kernel = 'linear', random_state = 0)\n",
        "classifier.fit(X_train, y_train)\n",
        "\n",
        "\n",
        "# Fitting K-NN to the Training set\n",
        "from sklearn.neighbors import KNeighborsClassifier\n",
        "classifier = KNeighborsClassifier(n_neighbors =5 , metric = 'minkowski', p = 2)\n",
        "classifier.fit(X_train, y_train)\n",
        "\n",
        "\n",
        "# Fitting Random Forest Classification to the Training set\n",
        "from sklearn.ensemble import RandomForestClassifier\n",
        "classifier = RandomForestClassifier(n_estimators = 100, criterion = 'entropy', random_state = 0)\n",
        "classifier.fit(X_train, y_train)\n",
        "'''\n",
        "classifier = XGBClassifier(booster='gbtree',n_estimators=100) \n",
        "classifier.fit(X_train, y_train)\n",
        "\n",
        "# Predicting the Test set results\n",
        "y_pred = classifier.predict(X_test)"
      ],
      "execution_count": null,
      "outputs": []
    },
    {
      "cell_type": "code",
      "metadata": {
        "colab": {
          "base_uri": "https://localhost:8080/"
        },
        "id": "lEeo5PD7rV-6",
        "outputId": "1e3aacf7-acc0-487c-e5b8-eda4a513375c"
      },
      "source": [
        "from sklearn.metrics import confusion_matrix, accuracy_score\n",
        "cm = confusion_matrix(y_test, y_pred)\n",
        "accuracy = accuracy_score(y_test, y_pred) \n",
        "print(\"Accuracy: %.2f%%\" % (accuracy * 100.0))"
      ],
      "execution_count": null,
      "outputs": [
        {
          "output_type": "stream",
          "text": [
            "Accuracy: 41.45%\n"
          ],
          "name": "stdout"
        }
      ]
    },
    {
      "cell_type": "code",
      "metadata": {
        "colab": {
          "base_uri": "https://localhost:8080/"
        },
        "id": "S5MaC6M74lM1",
        "outputId": "4c090cf8-f67e-4cb3-dd7c-4c24a9ba9690"
      },
      "source": [
        "from sklearn.model_selection import cross_val_score\n",
        "scores = cross_val_score(classifier, X_test, y_test, cv=5, scoring='accuracy')\n",
        "scores"
      ],
      "execution_count": null,
      "outputs": [
        {
          "output_type": "execute_result",
          "data": {
            "text/plain": [
              "array([0.3942029 , 0.41449275, 0.39710145, 0.38405797, 0.38695652])"
            ]
          },
          "metadata": {
            "tags": []
          },
          "execution_count": 24
        }
      ]
    },
    {
      "cell_type": "code",
      "metadata": {
        "colab": {
          "base_uri": "https://localhost:8080/"
        },
        "id": "OLA9mIdFv_EV",
        "outputId": "2e7ff0d8-a3a9-4678-d7a4-187e2b8d8c71"
      },
      "source": [
        "cm"
      ],
      "execution_count": null,
      "outputs": [
        {
          "output_type": "execute_result",
          "data": {
            "text/plain": [
              "array([[479,  24,  58,  94,  36],\n",
              "       [109, 118, 188, 173,  96],\n",
              "       [117,  80, 233, 137,  90],\n",
              "       [ 76,  28,  81, 382, 118],\n",
              "       [ 69,  59,  88, 299, 218]])"
            ]
          },
          "metadata": {
            "tags": []
          },
          "execution_count": 25
        }
      ]
    },
    {
      "cell_type": "code",
      "metadata": {
        "colab": {
          "base_uri": "https://localhost:8080/",
          "height": 286
        },
        "id": "mhQ5IVWjPfjG",
        "outputId": "e28ecd62-6d3e-4617-cb6a-9295d00083d0"
      },
      "source": [
        "df.corr(method ='kendall') "
      ],
      "execution_count": null,
      "outputs": [
        {
          "output_type": "execute_result",
          "data": {
            "text/html": [
              "<div>\n",
              "<style scoped>\n",
              "    .dataframe tbody tr th:only-of-type {\n",
              "        vertical-align: middle;\n",
              "    }\n",
              "\n",
              "    .dataframe tbody tr th {\n",
              "        vertical-align: top;\n",
              "    }\n",
              "\n",
              "    .dataframe thead th {\n",
              "        text-align: right;\n",
              "    }\n",
              "</style>\n",
              "<table border=\"1\" class=\"dataframe\">\n",
              "  <thead>\n",
              "    <tr style=\"text-align: right;\">\n",
              "      <th></th>\n",
              "      <th>skew</th>\n",
              "      <th>mean</th>\n",
              "      <th>kurtosis</th>\n",
              "      <th>variance</th>\n",
              "      <th>min</th>\n",
              "      <th>max</th>\n",
              "      <th>mad</th>\n",
              "      <th>y</th>\n",
              "    </tr>\n",
              "  </thead>\n",
              "  <tbody>\n",
              "    <tr>\n",
              "      <th>skew</th>\n",
              "      <td>1.000000</td>\n",
              "      <td>0.022698</td>\n",
              "      <td>-0.045909</td>\n",
              "      <td>-0.039933</td>\n",
              "      <td>0.383031</td>\n",
              "      <td>0.307173</td>\n",
              "      <td>-0.034266</td>\n",
              "      <td>0.045749</td>\n",
              "    </tr>\n",
              "    <tr>\n",
              "      <th>mean</th>\n",
              "      <td>0.022698</td>\n",
              "      <td>1.000000</td>\n",
              "      <td>-0.000151</td>\n",
              "      <td>0.204519</td>\n",
              "      <td>0.243220</td>\n",
              "      <td>0.468826</td>\n",
              "      <td>0.222040</td>\n",
              "      <td>-0.046239</td>\n",
              "    </tr>\n",
              "    <tr>\n",
              "      <th>kurtosis</th>\n",
              "      <td>-0.045909</td>\n",
              "      <td>-0.000151</td>\n",
              "      <td>1.000000</td>\n",
              "      <td>0.281350</td>\n",
              "      <td>-0.303568</td>\n",
              "      <td>0.230129</td>\n",
              "      <td>-0.008392</td>\n",
              "      <td>-0.008267</td>\n",
              "    </tr>\n",
              "    <tr>\n",
              "      <th>variance</th>\n",
              "      <td>-0.039933</td>\n",
              "      <td>0.204519</td>\n",
              "      <td>0.281350</td>\n",
              "      <td>1.000000</td>\n",
              "      <td>-0.326527</td>\n",
              "      <td>0.412594</td>\n",
              "      <td>0.663673</td>\n",
              "      <td>-0.152436</td>\n",
              "    </tr>\n",
              "    <tr>\n",
              "      <th>min</th>\n",
              "      <td>0.383031</td>\n",
              "      <td>0.243220</td>\n",
              "      <td>-0.303568</td>\n",
              "      <td>-0.326527</td>\n",
              "      <td>1.000000</td>\n",
              "      <td>0.095190</td>\n",
              "      <td>-0.182291</td>\n",
              "      <td>-0.006007</td>\n",
              "    </tr>\n",
              "    <tr>\n",
              "      <th>max</th>\n",
              "      <td>0.307173</td>\n",
              "      <td>0.468826</td>\n",
              "      <td>0.230129</td>\n",
              "      <td>0.412594</td>\n",
              "      <td>0.095190</td>\n",
              "      <td>1.000000</td>\n",
              "      <td>0.289131</td>\n",
              "      <td>0.019075</td>\n",
              "    </tr>\n",
              "    <tr>\n",
              "      <th>mad</th>\n",
              "      <td>-0.034266</td>\n",
              "      <td>0.222040</td>\n",
              "      <td>-0.008392</td>\n",
              "      <td>0.663673</td>\n",
              "      <td>-0.182291</td>\n",
              "      <td>0.289131</td>\n",
              "      <td>1.000000</td>\n",
              "      <td>-0.182827</td>\n",
              "    </tr>\n",
              "    <tr>\n",
              "      <th>y</th>\n",
              "      <td>0.045749</td>\n",
              "      <td>-0.046239</td>\n",
              "      <td>-0.008267</td>\n",
              "      <td>-0.152436</td>\n",
              "      <td>-0.006007</td>\n",
              "      <td>0.019075</td>\n",
              "      <td>-0.182827</td>\n",
              "      <td>1.000000</td>\n",
              "    </tr>\n",
              "  </tbody>\n",
              "</table>\n",
              "</div>"
            ],
            "text/plain": [
              "              skew      mean  kurtosis  ...       max       mad         y\n",
              "skew      1.000000  0.022698 -0.045909  ...  0.307173 -0.034266  0.045749\n",
              "mean      0.022698  1.000000 -0.000151  ...  0.468826  0.222040 -0.046239\n",
              "kurtosis -0.045909 -0.000151  1.000000  ...  0.230129 -0.008392 -0.008267\n",
              "variance -0.039933  0.204519  0.281350  ...  0.412594  0.663673 -0.152436\n",
              "min       0.383031  0.243220 -0.303568  ...  0.095190 -0.182291 -0.006007\n",
              "max       0.307173  0.468826  0.230129  ...  1.000000  0.289131  0.019075\n",
              "mad      -0.034266  0.222040 -0.008392  ...  0.289131  1.000000 -0.182827\n",
              "y         0.045749 -0.046239 -0.008267  ...  0.019075 -0.182827  1.000000\n",
              "\n",
              "[8 rows x 8 columns]"
            ]
          },
          "metadata": {
            "tags": []
          },
          "execution_count": 29
        }
      ]
    },
    {
      "cell_type": "code",
      "metadata": {
        "id": "eNHNkyt-WQ4V"
      },
      "source": [
        "from sklearn.metrics import precision_recall_fscore_support as score\n",
        "precision_test, recall_test, fscore_test, support_test = score(y_test, y_pred)\n",
        "print(precision_score, precision_test, recall_test)\n",
        "print(fscore_test)"
      ],
      "execution_count": null,
      "outputs": []
    },
    {
      "cell_type": "code",
      "metadata": {
        "id": "8V0O2yzsBxnW"
      },
      "source": [
        "'''\n",
        "plotd=pd.DataFrame\n",
        "plotd=d.iloc[:11500,1:179]\n",
        "#os.chdir(\"figs1\")\n",
        "c=1\n",
        "for i in plotd.index:\n",
        "  print(c)\n",
        "  signal=pd.Series((plotd.iloc[i,1:179]))\n",
        "  time = pd.Series(list(range(1, 179)))\n",
        "  dplot=pd.DataFrame(signal)\n",
        "  to_append = time\n",
        "  df_length = len(dplot)\n",
        "  dplot.loc[df_length] = to_append\n",
        "  fig=dplot.plot().get_figure()\n",
        "  fig.savefig(\"df\"+str(c)+\".jpg\")\n",
        "  c=c+1\n",
        "  os.chdir(\"..\")\n",
        "  os.chdir(\"..\")\n",
        "'''"
      ],
      "execution_count": null,
      "outputs": []
    },
    {
      "cell_type": "code",
      "metadata": {
        "id": "FCGxlyMmGY0K"
      },
      "source": [
        "plotd=pd.DataFrame()\n",
        "plotd=d.iloc[:11500,1:179]\n",
        "#plotd.head(5)\n",
        "plotd1=plotd"
      ],
      "execution_count": null,
      "outputs": []
    },
    {
      "cell_type": "code",
      "metadata": {
        "colab": {
          "base_uri": "https://localhost:8080/"
        },
        "id": "OXsELhTKLCQF",
        "outputId": "3750fbe0-706c-491c-e8bc-a9533ba4cdf3"
      },
      "source": [
        "time = list(range(1, 179))\n",
        "to_append = time\n",
        "df_length = len(plotd1)\n",
        "plotd1.loc[df_length] = to_append"
      ],
      "execution_count": null,
      "outputs": [
        {
          "output_type": "stream",
          "text": [
            "[1, 2, 3, 4, 5, 6, 7, 8, 9, 10, 11, 12, 13, 14, 15, 16, 17, 18, 19, 20, 21, 22, 23, 24, 25, 26, 27, 28, 29, 30, 31, 32, 33, 34, 35, 36, 37, 38, 39, 40, 41, 42, 43, 44, 45, 46, 47, 48, 49, 50, 51, 52, 53, 54, 55, 56, 57, 58, 59, 60, 61, 62, 63, 64, 65, 66, 67, 68, 69, 70, 71, 72, 73, 74, 75, 76, 77, 78, 79, 80, 81, 82, 83, 84, 85, 86, 87, 88, 89, 90, 91, 92, 93, 94, 95, 96, 97, 98, 99, 100, 101, 102, 103, 104, 105, 106, 107, 108, 109, 110, 111, 112, 113, 114, 115, 116, 117, 118, 119, 120, 121, 122, 123, 124, 125, 126, 127, 128, 129, 130, 131, 132, 133, 134, 135, 136, 137, 138, 139, 140, 141, 142, 143, 144, 145, 146, 147, 148, 149, 150, 151, 152, 153, 154, 155, 156, 157, 158, 159, 160, 161, 162, 163, 164, 165, 166, 167, 168, 169, 170, 171, 172, 173, 174, 175, 176, 177, 178]\n"
          ],
          "name": "stdout"
        }
      ]
    },
    {
      "cell_type": "code",
      "metadata": {
        "colab": {
          "base_uri": "https://localhost:8080/",
          "height": 126
        },
        "id": "PzdqIhSgaiD1",
        "outputId": "60c36586-6b34-4ca9-aa41-ad0cd20c2d8e"
      },
      "source": [
        "freq_de.iloc[0:1,0:178]"
      ],
      "execution_count": 53,
      "outputs": [
        {
          "output_type": "execute_result",
          "data": {
            "text/html": [
              "<div>\n",
              "<style scoped>\n",
              "    .dataframe tbody tr th:only-of-type {\n",
              "        vertical-align: middle;\n",
              "    }\n",
              "\n",
              "    .dataframe tbody tr th {\n",
              "        vertical-align: top;\n",
              "    }\n",
              "\n",
              "    .dataframe thead th {\n",
              "        text-align: right;\n",
              "    }\n",
              "</style>\n",
              "<table border=\"1\" class=\"dataframe\">\n",
              "  <thead>\n",
              "    <tr style=\"text-align: right;\">\n",
              "      <th></th>\n",
              "      <th>0</th>\n",
              "      <th>1</th>\n",
              "      <th>2</th>\n",
              "      <th>3</th>\n",
              "      <th>4</th>\n",
              "      <th>5</th>\n",
              "      <th>6</th>\n",
              "      <th>7</th>\n",
              "      <th>8</th>\n",
              "      <th>9</th>\n",
              "      <th>10</th>\n",
              "      <th>11</th>\n",
              "      <th>12</th>\n",
              "      <th>13</th>\n",
              "      <th>14</th>\n",
              "      <th>15</th>\n",
              "      <th>16</th>\n",
              "      <th>17</th>\n",
              "      <th>18</th>\n",
              "      <th>19</th>\n",
              "      <th>20</th>\n",
              "      <th>21</th>\n",
              "      <th>22</th>\n",
              "      <th>23</th>\n",
              "      <th>24</th>\n",
              "      <th>25</th>\n",
              "      <th>26</th>\n",
              "      <th>27</th>\n",
              "      <th>28</th>\n",
              "      <th>29</th>\n",
              "      <th>30</th>\n",
              "      <th>31</th>\n",
              "      <th>32</th>\n",
              "      <th>33</th>\n",
              "      <th>34</th>\n",
              "      <th>35</th>\n",
              "      <th>36</th>\n",
              "      <th>37</th>\n",
              "      <th>38</th>\n",
              "      <th>39</th>\n",
              "      <th>...</th>\n",
              "      <th>138</th>\n",
              "      <th>139</th>\n",
              "      <th>140</th>\n",
              "      <th>141</th>\n",
              "      <th>142</th>\n",
              "      <th>143</th>\n",
              "      <th>144</th>\n",
              "      <th>145</th>\n",
              "      <th>146</th>\n",
              "      <th>147</th>\n",
              "      <th>148</th>\n",
              "      <th>149</th>\n",
              "      <th>150</th>\n",
              "      <th>151</th>\n",
              "      <th>152</th>\n",
              "      <th>153</th>\n",
              "      <th>154</th>\n",
              "      <th>155</th>\n",
              "      <th>156</th>\n",
              "      <th>157</th>\n",
              "      <th>158</th>\n",
              "      <th>159</th>\n",
              "      <th>160</th>\n",
              "      <th>161</th>\n",
              "      <th>162</th>\n",
              "      <th>163</th>\n",
              "      <th>164</th>\n",
              "      <th>165</th>\n",
              "      <th>166</th>\n",
              "      <th>167</th>\n",
              "      <th>168</th>\n",
              "      <th>169</th>\n",
              "      <th>170</th>\n",
              "      <th>171</th>\n",
              "      <th>172</th>\n",
              "      <th>173</th>\n",
              "      <th>174</th>\n",
              "      <th>175</th>\n",
              "      <th>176</th>\n",
              "      <th>177</th>\n",
              "    </tr>\n",
              "  </thead>\n",
              "  <tbody>\n",
              "    <tr>\n",
              "      <th>0</th>\n",
              "      <td>0.07484</td>\n",
              "      <td>0.112456</td>\n",
              "      <td>0.248675</td>\n",
              "      <td>0.466751</td>\n",
              "      <td>0.329115</td>\n",
              "      <td>0.265278</td>\n",
              "      <td>0.096717</td>\n",
              "      <td>0.248364</td>\n",
              "      <td>0.258185</td>\n",
              "      <td>0.090711</td>\n",
              "      <td>0.011671</td>\n",
              "      <td>0.191157</td>\n",
              "      <td>0.090165</td>\n",
              "      <td>0.164255</td>\n",
              "      <td>0.089409</td>\n",
              "      <td>0.150494</td>\n",
              "      <td>0.136897</td>\n",
              "      <td>0.084556</td>\n",
              "      <td>0.109379</td>\n",
              "      <td>0.072129</td>\n",
              "      <td>0.044042</td>\n",
              "      <td>0.063085</td>\n",
              "      <td>0.046758</td>\n",
              "      <td>0.054975</td>\n",
              "      <td>0.06193</td>\n",
              "      <td>0.041915</td>\n",
              "      <td>0.05722</td>\n",
              "      <td>0.044905</td>\n",
              "      <td>0.018464</td>\n",
              "      <td>0.033981</td>\n",
              "      <td>0.026761</td>\n",
              "      <td>0.015504</td>\n",
              "      <td>0.015127</td>\n",
              "      <td>0.012555</td>\n",
              "      <td>0.012979</td>\n",
              "      <td>0.009684</td>\n",
              "      <td>0.015024</td>\n",
              "      <td>0.015427</td>\n",
              "      <td>0.006273</td>\n",
              "      <td>0.010446</td>\n",
              "      <td>...</td>\n",
              "      <td>0.011664</td>\n",
              "      <td>0.010446</td>\n",
              "      <td>0.006273</td>\n",
              "      <td>0.015427</td>\n",
              "      <td>0.015024</td>\n",
              "      <td>0.009684</td>\n",
              "      <td>0.012979</td>\n",
              "      <td>0.012555</td>\n",
              "      <td>0.015127</td>\n",
              "      <td>0.015504</td>\n",
              "      <td>0.026761</td>\n",
              "      <td>0.033981</td>\n",
              "      <td>0.018464</td>\n",
              "      <td>0.044905</td>\n",
              "      <td>0.05722</td>\n",
              "      <td>0.041915</td>\n",
              "      <td>0.06193</td>\n",
              "      <td>0.054975</td>\n",
              "      <td>0.046758</td>\n",
              "      <td>0.063085</td>\n",
              "      <td>0.044042</td>\n",
              "      <td>0.072129</td>\n",
              "      <td>0.109379</td>\n",
              "      <td>0.084556</td>\n",
              "      <td>0.136897</td>\n",
              "      <td>0.150494</td>\n",
              "      <td>0.089409</td>\n",
              "      <td>0.164255</td>\n",
              "      <td>0.090165</td>\n",
              "      <td>0.191157</td>\n",
              "      <td>0.011671</td>\n",
              "      <td>0.090711</td>\n",
              "      <td>0.258185</td>\n",
              "      <td>0.248364</td>\n",
              "      <td>0.096717</td>\n",
              "      <td>0.265278</td>\n",
              "      <td>0.329115</td>\n",
              "      <td>0.466751</td>\n",
              "      <td>0.248675</td>\n",
              "      <td>0.112456</td>\n",
              "    </tr>\n",
              "  </tbody>\n",
              "</table>\n",
              "<p>1 rows × 178 columns</p>\n",
              "</div>"
            ],
            "text/plain": [
              "       0         1         2    ...       175       176       177\n",
              "0  0.07484  0.112456  0.248675  ...  0.466751  0.248675  0.112456\n",
              "\n",
              "[1 rows x 178 columns]"
            ]
          },
          "metadata": {
            "tags": []
          },
          "execution_count": 53
        }
      ]
    }
  ]
}